{
 "cells": [
  {
   "cell_type": "markdown",
   "id": "125a6233-dc00-4d5d-918f-a1eff86b3404",
   "metadata": {},
   "source": [
    "# Introduction to NumPy"
   ]
  },
  {
   "cell_type": "code",
   "execution_count": 3,
   "id": "c07027da-4ec5-462a-a108-f2300243c279",
   "metadata": {},
   "outputs": [],
   "source": [
    "import numpy as np "
   ]
  },
  {
   "cell_type": "code",
   "execution_count": 4,
   "id": "a21f5acb-13ad-4b91-ac0d-2406e92f489d",
   "metadata": {},
   "outputs": [
    {
     "data": {
      "text/plain": [
       "\u001b[1;31mType:\u001b[0m        module\n",
       "\u001b[1;31mString form:\u001b[0m <module 'numpy' from 'C:\\\\Users\\\\OBED\\\\New folder\\\\Lib\\\\site-packages\\\\numpy\\\\__init__.py'>\n",
       "\u001b[1;31mFile:\u001b[0m        c:\\users\\obed\\new folder\\lib\\site-packages\\numpy\\__init__.py\n",
       "\u001b[1;31mDocstring:\u001b[0m  \n",
       "NumPy\n",
       "=====\n",
       "\n",
       "Provides\n",
       "  1. An array object of arbitrary homogeneous items\n",
       "  2. Fast mathematical operations over arrays\n",
       "  3. Linear Algebra, Fourier Transforms, Random Number Generation\n",
       "\n",
       "How to use the documentation\n",
       "----------------------------\n",
       "Documentation is available in two forms: docstrings provided\n",
       "with the code, and a loose standing reference guide, available from\n",
       "`the NumPy homepage <https://numpy.org>`_.\n",
       "\n",
       "We recommend exploring the docstrings using\n",
       "`IPython <https://ipython.org>`_, an advanced Python shell with\n",
       "TAB-completion and introspection capabilities.  See below for further\n",
       "instructions.\n",
       "\n",
       "The docstring examples assume that `numpy` has been imported as ``np``::\n",
       "\n",
       "  >>> import numpy as np\n",
       "\n",
       "Code snippets are indicated by three greater-than signs::\n",
       "\n",
       "  >>> x = 42\n",
       "  >>> x = x + 1\n",
       "\n",
       "Use the built-in ``help`` function to view a function's docstring::\n",
       "\n",
       "  >>> help(np.sort)\n",
       "  ... # doctest: +SKIP\n",
       "\n",
       "For some objects, ``np.info(obj)`` may provide additional help.  This is\n",
       "particularly true if you see the line \"Help on ufunc object:\" at the top\n",
       "of the help() page.  Ufuncs are implemented in C, not Python, for speed.\n",
       "The native Python help() does not know how to view their help, but our\n",
       "np.info() function does.\n",
       "\n",
       "To search for documents containing a keyword, do::\n",
       "\n",
       "  >>> np.lookfor('keyword')\n",
       "  ... # doctest: +SKIP\n",
       "\n",
       "General-purpose documents like a glossary and help on the basic concepts\n",
       "of numpy are available under the ``doc`` sub-module::\n",
       "\n",
       "  >>> from numpy import doc\n",
       "  >>> help(doc)\n",
       "  ... # doctest: +SKIP\n",
       "\n",
       "Available subpackages\n",
       "---------------------\n",
       "lib\n",
       "    Basic functions used by several sub-packages.\n",
       "random\n",
       "    Core Random Tools\n",
       "linalg\n",
       "    Core Linear Algebra Tools\n",
       "fft\n",
       "    Core FFT routines\n",
       "polynomial\n",
       "    Polynomial tools\n",
       "testing\n",
       "    NumPy testing tools\n",
       "distutils\n",
       "    Enhancements to distutils with support for\n",
       "    Fortran compilers support and more  (for Python <= 3.11).\n",
       "\n",
       "Utilities\n",
       "---------\n",
       "test\n",
       "    Run numpy unittests\n",
       "show_config\n",
       "    Show numpy build configuration\n",
       "matlib\n",
       "    Make everything matrices.\n",
       "__version__\n",
       "    NumPy version string\n",
       "\n",
       "Viewing documentation using IPython\n",
       "-----------------------------------\n",
       "\n",
       "Start IPython and import `numpy` usually under the alias ``np``: `import\n",
       "numpy as np`.  Then, directly past or use the ``%cpaste`` magic to paste\n",
       "examples into the shell.  To see which functions are available in `numpy`,\n",
       "type ``np.<TAB>`` (where ``<TAB>`` refers to the TAB key), or use\n",
       "``np.*cos*?<ENTER>`` (where ``<ENTER>`` refers to the ENTER key) to narrow\n",
       "down the list.  To view the docstring for a function, use\n",
       "``np.cos?<ENTER>`` (to view the docstring) and ``np.cos??<ENTER>`` (to view\n",
       "the source code).\n",
       "\n",
       "Copies vs. in-place operation\n",
       "-----------------------------\n",
       "Most of the functions in `numpy` return a copy of the array argument\n",
       "(e.g., `np.sort`).  In-place versions of these functions are often\n",
       "available as array methods, i.e. ``x = np.array([1,2,3]); x.sort()``.\n",
       "Exceptions to this rule are documented."
      ]
     },
     "metadata": {},
     "output_type": "display_data"
    }
   ],
   "source": [
    "#to access the numpy help\n",
    "np?"
   ]
  },
  {
   "cell_type": "code",
   "execution_count": 5,
   "id": "914baa0d-8fcc-4b77-bc6b-386c9f6e235e",
   "metadata": {},
   "outputs": [
    {
     "data": {
      "text/plain": [
       "[0, 1, 2, 3, 4, 5, 6, 7, 8, 9]"
      ]
     },
     "execution_count": 5,
     "metadata": {},
     "output_type": "execute_result"
    }
   ],
   "source": [
    "L = list(range(10))\n",
    "L"
   ]
  },
  {
   "cell_type": "code",
   "execution_count": 6,
   "id": "436515b1-230c-403f-b8f0-c00fc7201e4a",
   "metadata": {},
   "outputs": [
    {
     "data": {
      "text/plain": [
       "['0', '1', '2', '3', '4', '5', '6', '7', '8', '9']"
      ]
     },
     "execution_count": 6,
     "metadata": {},
     "output_type": "execute_result"
    }
   ],
   "source": [
    "#for strings \n",
    "L1 = [str(c) for c in L]\n",
    "L1"
   ]
  },
  {
   "cell_type": "code",
   "execution_count": 7,
   "id": "4c5f301e-9d52-4591-a872-26dac7121390",
   "metadata": {},
   "outputs": [],
   "source": [
    "L2 = [True, 7, \"Mbwas\", 4.784]"
   ]
  },
  {
   "cell_type": "code",
   "execution_count": 8,
   "id": "9ea4d7b1-9696-44dc-9c17-348a87b3decb",
   "metadata": {},
   "outputs": [
    {
     "data": {
      "text/plain": [
       "[bool, int, str, float]"
      ]
     },
     "execution_count": 8,
     "metadata": {},
     "output_type": "execute_result"
    }
   ],
   "source": [
    "[type(item) for item in L2]"
   ]
  },
  {
   "cell_type": "markdown",
   "id": "91bbc44b-3d10-4f6c-a09e-0d294859e4c5",
   "metadata": {},
   "source": [
    "# Fixed Type Arrays in Python \n",
    "In Python, a fixed-type array refers to an array where the data type of the elements is explicitly specified and remains consistent throughout the array. Unlike Python lists (which can hold mixed types), fixed-type arrays enforce a single data type, leading to better memory efficiency and faster computations."
   ]
  },
  {
   "cell_type": "code",
   "execution_count": 9,
   "id": "7668dade-4d89-437f-9c6b-a621fa0e4436",
   "metadata": {},
   "outputs": [
    {
     "data": {
      "text/plain": [
       "array('i', [0, 1, 2, 3, 4, 5, 6, 7, 8, 9, 10, 11, 12, 13, 14])"
      ]
     },
     "execution_count": 9,
     "metadata": {},
     "output_type": "execute_result"
    }
   ],
   "source": [
    "import array \n",
    "#in the following example i indicates the integer. \n",
    "List = list(range(15))\n",
    "A = array.array(\"i\", List)\n",
    "A"
   ]
  },
  {
   "cell_type": "code",
   "execution_count": 10,
   "id": "46696cf3-1b52-4dda-8bbf-30e6853723ad",
   "metadata": {},
   "outputs": [
    {
     "data": {
      "text/plain": [
       "array('f', [0.0, 1.0, 2.0, 3.0, 4.0, 5.0, 6.0, 7.0, 8.0, 9.0, 10.0, 11.0, 12.0, 13.0, 14.0])"
      ]
     },
     "execution_count": 10,
     "metadata": {},
     "output_type": "execute_result"
    }
   ],
   "source": [
    "#for float values \n",
    "A1 = array.array(\"f\", [float(b) for b in List])\n",
    "A1"
   ]
  },
  {
   "cell_type": "markdown",
   "id": "8037763c-2fe2-4206-8d07-fdfeecb5bfe6",
   "metadata": {},
   "source": [
    "# Creating arrays in numPy \n",
    "NumPy arrays (ndarray) are the backbone of numerical computing in Python. They provide a fast, memory-efficient, and convenient way to store and manipulate large datasets."
   ]
  },
  {
   "cell_type": "code",
   "execution_count": 11,
   "id": "a00acb95-9be4-4b2e-9046-b6ac6f7af716",
   "metadata": {},
   "outputs": [
    {
     "data": {
      "text/plain": [
       "array([1, 3, 4, 2, 4, 4])"
      ]
     },
     "execution_count": 11,
     "metadata": {},
     "output_type": "execute_result"
    }
   ],
   "source": [
    "#let us start with list as array \n",
    "np.array([1,3,4,2,4,4])"
   ]
  },
  {
   "cell_type": "code",
   "execution_count": 12,
   "id": "213e1d80-f6fe-4deb-ada5-b32d5903392f",
   "metadata": {},
   "outputs": [
    {
     "data": {
      "text/plain": [
       "array([ 1.  ,  2.  ,  2.  ,  3.24, 12.  , 23.4 ])"
      ]
     },
     "execution_count": 12,
     "metadata": {},
     "output_type": "execute_result"
    }
   ],
   "source": [
    "#Remember that unlike Python lists, NumPy is constrained to arrays that all contain\n",
    "#the same type. If types do not match, NumPy will upcast if possible (here, integers are\n",
    "#upcast to floating point), that is, it converts the integers to float numbers.\n",
    "np.array([1,2,2,3.24,12,23.4])"
   ]
  },
  {
   "cell_type": "code",
   "execution_count": 13,
   "id": "86e17d84-0570-40af-97fb-920111680857",
   "metadata": {},
   "outputs": [
    {
     "data": {
      "text/plain": [
       "array([12.  , 34.  ,  2.4 , 23.  ,  2.33])"
      ]
     },
     "execution_count": 13,
     "metadata": {},
     "output_type": "execute_result"
    }
   ],
   "source": [
    "#If we want to explicitly set the data type of the resulting array, we can use the dtype keyword:\n",
    "np.array([12,34,2.4,23,2.33], dtype=\"float\")"
   ]
  },
  {
   "cell_type": "code",
   "execution_count": 14,
   "id": "fd3c6ef1-84a1-4f84-b6e7-e2b1371b5706",
   "metadata": {},
   "outputs": [
    {
     "data": {
      "text/plain": [
       "array([[2, 3, 4],\n",
       "       [3, 4, 5],\n",
       "       [4, 5, 6]])"
      ]
     },
     "execution_count": 14,
     "metadata": {},
     "output_type": "execute_result"
    }
   ],
   "source": [
    "#unlike Python lists, NumPy arrays can explicitly be multidimensional; \n",
    "np.array([range(i, i+3) for i in [2,3,4]])"
   ]
  },
  {
   "cell_type": "code",
   "execution_count": 15,
   "id": "53dc8a5e-690a-45c6-9b4f-826dad0563b9",
   "metadata": {},
   "outputs": [
    {
     "data": {
      "text/plain": [
       "array([[ 2,  3,  4,  5,  6],\n",
       "       [ 3,  4,  5,  6,  7],\n",
       "       [ 4,  5,  6,  7,  8],\n",
       "       [ 5,  6,  7,  8,  9],\n",
       "       [ 6,  7,  8,  9, 10]])"
      ]
     },
     "execution_count": 15,
     "metadata": {},
     "output_type": "execute_result"
    }
   ],
   "source": [
    "#lets try a 5x5 array\n",
    "np.array([range(i, i+5) for i in [2,3,4,5,6]])"
   ]
  },
  {
   "cell_type": "markdown",
   "id": "959b6122-e76e-46f1-89cd-f8e44b1a0b93",
   "metadata": {},
   "source": [
    "# Creating an array from the scratch"
   ]
  },
  {
   "cell_type": "code",
   "execution_count": 16,
   "id": "01ee02c4-d944-423d-9e43-e55869a643f8",
   "metadata": {},
   "outputs": [
    {
     "data": {
      "text/plain": [
       "array([0, 0, 0, 0, 0, 0, 0, 0, 0, 0])"
      ]
     },
     "execution_count": 16,
     "metadata": {},
     "output_type": "execute_result"
    }
   ],
   "source": [
    "#To create an array of 10 zeros that are zeroes \n",
    "np.zeros(10, dtype = \"int\")"
   ]
  },
  {
   "cell_type": "code",
   "execution_count": 17,
   "id": "8c8adbd7-98b2-4ee0-a9d9-aa4107b4b4d4",
   "metadata": {},
   "outputs": [
    {
     "data": {
      "text/plain": [
       "array([[1., 1., 1., 1., 1.],\n",
       "       [1., 1., 1., 1., 1.],\n",
       "       [1., 1., 1., 1., 1.]])"
      ]
     },
     "execution_count": 17,
     "metadata": {},
     "output_type": "execute_result"
    }
   ],
   "source": [
    "#To create a 3x5 array of ones that float numbers \n",
    "np.ones((3, 5), dtype = \"float\")"
   ]
  },
  {
   "cell_type": "code",
   "execution_count": 18,
   "id": "36a3d242-350a-485f-a429-9e049801b8d7",
   "metadata": {},
   "outputs": [
    {
     "data": {
      "text/plain": [
       "array([[3.45, 3.45, 3.45, 3.45, 3.45],\n",
       "       [3.45, 3.45, 3.45, 3.45, 3.45],\n",
       "       [3.45, 3.45, 3.45, 3.45, 3.45]])"
      ]
     },
     "execution_count": 18,
     "metadata": {},
     "output_type": "execute_result"
    }
   ],
   "source": [
    "#To create an array that is full of a certain number \n",
    "np.full((3,5), 3.45)"
   ]
  },
  {
   "cell_type": "markdown",
   "id": "a29cf29c-21e4-40db-8ab8-fed8a393667e",
   "metadata": {},
   "source": [
    "# Creating Sequences in array"
   ]
  },
  {
   "cell_type": "code",
   "execution_count": 19,
   "id": "abf198ec-a383-4e0f-865a-d30ed443bb0b",
   "metadata": {},
   "outputs": [
    {
     "data": {
      "text/plain": [
       "array([ 0,  2,  4,  6,  8, 10, 12, 14, 16, 18])"
      ]
     },
     "execution_count": 19,
     "metadata": {},
     "output_type": "execute_result"
    }
   ],
   "source": [
    "# To create an array of sequences, say from 0 to 20,with an interval of 2. \n",
    "#The arrange function evenly spaces the values based on the size while linspace does it based on the points \n",
    "np.arange(0, 20, 2)"
   ]
  },
  {
   "cell_type": "code",
   "execution_count": 20,
   "id": "d3e68710-3e09-456f-b6a3-f6930a2d124b",
   "metadata": {},
   "outputs": [
    {
     "data": {
      "text/plain": [
       "array([0.  , 0.25, 0.5 , 0.75, 1.  ])"
      ]
     },
     "execution_count": 20,
     "metadata": {},
     "output_type": "execute_result"
    }
   ],
   "source": [
    "#To create an array of numbers from 0 to 1 with an even points of 5\n",
    "np.linspace(0, 1, 5)"
   ]
  },
  {
   "cell_type": "code",
   "execution_count": 21,
   "id": "a9af46fb-5b79-4195-b4d5-97aa9de240a4",
   "metadata": {},
   "outputs": [
    {
     "data": {
      "text/plain": [
       "array([[0.70927885, 0.93873581, 0.1055686 ],\n",
       "       [0.77668982, 0.41114623, 0.66672965],\n",
       "       [0.5311197 , 0.13267285, 0.0866482 ]])"
      ]
     },
     "execution_count": 21,
     "metadata": {},
     "output_type": "execute_result"
    }
   ],
   "source": [
    "# Create a 3x3 array of uniformly distributed\n",
    "# random values between 0 and 1\n",
    "np.random.random((3,3))"
   ]
  },
  {
   "cell_type": "code",
   "execution_count": 22,
   "id": "299b097d-e63f-4e4e-82f1-20503e4397f4",
   "metadata": {},
   "outputs": [
    {
     "data": {
      "text/plain": [
       "array([[0.03075151, 0.83184148, 0.98760297, 0.83852929],\n",
       "       [0.43628813, 0.91918791, 0.46844353, 0.87043086],\n",
       "       [0.16280619, 0.86477603, 0.1108724 , 0.00244158],\n",
       "       [0.20910541, 0.05035553, 0.67595201, 0.77561519]])"
      ]
     },
     "execution_count": 22,
     "metadata": {},
     "output_type": "execute_result"
    }
   ],
   "source": [
    "np.random.random((4,4))"
   ]
  },
  {
   "cell_type": "code",
   "execution_count": 23,
   "id": "8e9df8d0-5359-4350-b2b4-967a3213ac3a",
   "metadata": {},
   "outputs": [
    {
     "data": {
      "text/plain": [
       "array([[ 1.11076299,  1.49282642,  1.07553659],\n",
       "       [ 0.18943533,  0.39931937,  0.75643092],\n",
       "       [ 0.02159072,  0.703262  , -1.9019047 ]])"
      ]
     },
     "execution_count": 23,
     "metadata": {},
     "output_type": "execute_result"
    }
   ],
   "source": [
    "# Create a 3x3 array of normally distributed random values\n",
    "# with mean 0 and standard deviation 1\n",
    "np.random.normal(0,1, (3,3))"
   ]
  },
  {
   "cell_type": "code",
   "execution_count": 24,
   "id": "afce993e-2139-42c5-9be0-d159d79ac74a",
   "metadata": {},
   "outputs": [
    {
     "data": {
      "text/plain": [
       "array([[2, 1, 6],\n",
       "       [3, 9, 9],\n",
       "       [3, 7, 7]])"
      ]
     },
     "execution_count": 24,
     "metadata": {},
     "output_type": "execute_result"
    }
   ],
   "source": [
    " # Create a 3x3 array of random integers in the interval (0, 10)\n",
    "np.random.randint(0, 10, (3, 3))"
   ]
  },
  {
   "cell_type": "code",
   "execution_count": 25,
   "id": "8ad34ab1-3c12-49a1-abaf-3ff9ef25ab5e",
   "metadata": {},
   "outputs": [
    {
     "data": {
      "text/plain": [
       "array([[1., 0., 0.],\n",
       "       [0., 1., 0.],\n",
       "       [0., 0., 1.]])"
      ]
     },
     "execution_count": 25,
     "metadata": {},
     "output_type": "execute_result"
    }
   ],
   "source": [
    " # Create a 3x3 identity matrix\n",
    "np.eye(3)"
   ]
  },
  {
   "cell_type": "code",
   "execution_count": 26,
   "id": "0236079b-dc0f-413f-a9e2-e24c1365a8a1",
   "metadata": {},
   "outputs": [
    {
     "data": {
      "text/plain": [
       "array([[1., 0., 0., 0.],\n",
       "       [0., 1., 0., 0.],\n",
       "       [0., 0., 1., 0.],\n",
       "       [0., 0., 0., 1.]])"
      ]
     },
     "execution_count": 26,
     "metadata": {},
     "output_type": "execute_result"
    }
   ],
   "source": [
    "#I love 4x4 array more \n",
    "np.eye(4)"
   ]
  },
  {
   "cell_type": "markdown",
   "id": "2c4a1e6f-371f-4e46-8fb4-8fc14d286564",
   "metadata": {},
   "source": [
    "# The Basis of NumPy Arrays\n",
    "We shall consider the following:\n",
    "1. Attributes of arrays: Determining the size, shape, memory consumption, and data types of arrays\n",
    "2. Indexing of arrays: Getting and setting the value of individual array elements\n",
    "3. Slicing of arrays: Getting and setting smaller subarrays within a larger array\n",
    "4. Reshaping of arrays: Changing the shape of a given array\n",
    "5. Joining and splitting of arrays: Combining multiple arrays into one, and splitting one array into many"
   ]
  },
  {
   "cell_type": "markdown",
   "id": "791ecc57-1f1e-4868-9db7-7b3955c53086",
   "metadata": {},
   "source": [
    "# Attributes of arrays\n",
    "\n",
    "Under the attributes we see the following features. \n",
    "1. arr.shape\t\n",
    "2. arr.ndim\t\n",
    "3. arr.size\t\n",
    "4. arr.dtype\t\n",
    "5. arr.itemsize\t"
   ]
  },
  {
   "cell_type": "code",
   "execution_count": 27,
   "id": "eb796af1-0c5e-4d9b-8afb-dbaca5e8f231",
   "metadata": {},
   "outputs": [],
   "source": [
    "#We shall be using a number generator for this\n",
    "np.random.seed(0)\n",
    "x1 = np.random.randint(10, size = 7)  # for 1dim array\n",
    "x2 = np.random.randint(10, size = (3,4)) # for a 2dim array\n",
    "x3 = np.random.randint(10, size = (3,4,5)) # for a 3dim array"
   ]
  },
  {
   "cell_type": "code",
   "execution_count": 28,
   "id": "b7891031-148c-46f6-8aba-05f6732cbcd3",
   "metadata": {},
   "outputs": [
    {
     "data": {
      "text/plain": [
       "array([5, 0, 3, 3, 7, 9, 3])"
      ]
     },
     "execution_count": 28,
     "metadata": {},
     "output_type": "execute_result"
    }
   ],
   "source": [
    "x1"
   ]
  },
  {
   "cell_type": "code",
   "execution_count": 29,
   "id": "f91fba77-308e-4fa6-a676-1cec2f356fee",
   "metadata": {},
   "outputs": [
    {
     "data": {
      "text/plain": [
       "array([[5, 2, 4, 7],\n",
       "       [6, 8, 8, 1],\n",
       "       [6, 7, 7, 8]])"
      ]
     },
     "execution_count": 29,
     "metadata": {},
     "output_type": "execute_result"
    }
   ],
   "source": [
    "x2"
   ]
  },
  {
   "cell_type": "code",
   "execution_count": 30,
   "id": "49a9cb98-08ea-4c8f-8524-7e52f486cd80",
   "metadata": {},
   "outputs": [
    {
     "data": {
      "text/plain": [
       "array([[[1, 5, 9, 8, 9],\n",
       "        [4, 3, 0, 3, 5],\n",
       "        [0, 2, 3, 8, 1],\n",
       "        [3, 3, 3, 7, 0]],\n",
       "\n",
       "       [[1, 9, 9, 0, 4],\n",
       "        [7, 3, 2, 7, 2],\n",
       "        [0, 0, 4, 5, 5],\n",
       "        [6, 8, 4, 1, 4]],\n",
       "\n",
       "       [[9, 8, 1, 1, 7],\n",
       "        [9, 9, 3, 6, 7],\n",
       "        [2, 0, 3, 5, 9],\n",
       "        [4, 4, 6, 4, 4]]])"
      ]
     },
     "execution_count": 30,
     "metadata": {},
     "output_type": "execute_result"
    }
   ],
   "source": [
    "x3"
   ]
  },
  {
   "cell_type": "code",
   "execution_count": 31,
   "id": "60064591-83a6-4d2b-9b06-22bd4cdc242c",
   "metadata": {},
   "outputs": [
    {
     "name": "stdout",
     "output_type": "stream",
     "text": [
      "The dimension of x1 is:  1\n",
      "The size of x1: 7\n",
      "The shape of x1 is: (7,)\n",
      "The datatype of the array x1 is: int32\n"
     ]
    }
   ],
   "source": [
    "print(f\"The dimension of x1 is: \", x1.ndim)\n",
    "print(f\"The size of x1:\", x1.size)\n",
    "print(f\"The shape of x1 is:\", x1.shape)\n",
    "print(f\"The datatype of the array x1 is:\", x1.dtype)"
   ]
  },
  {
   "cell_type": "code",
   "execution_count": 32,
   "id": "49368596-7f1a-4a93-9018-d608e385b858",
   "metadata": {},
   "outputs": [
    {
     "name": "stdout",
     "output_type": "stream",
     "text": [
      "The dimension of x1 is:  2\n",
      "The size of x1: 12\n",
      "The shape of x1 is: (3, 4)\n"
     ]
    }
   ],
   "source": [
    "print(f\"The dimension of x1 is: \", x2.ndim)\n",
    "print(f\"The size of x1:\", x2.size)\n",
    "print(f\"The shape of x1 is:\", x2.shape)"
   ]
  },
  {
   "cell_type": "code",
   "execution_count": 33,
   "id": "1480a789-cc10-4b9b-a89e-3f597c04192c",
   "metadata": {},
   "outputs": [
    {
     "name": "stdout",
     "output_type": "stream",
     "text": [
      "The dimension of x1 is:  3\n",
      "The size of x1: 60\n",
      "The shape of x1 is: (3, 4, 5)\n"
     ]
    }
   ],
   "source": [
    "print(f\"The dimension of x1 is: \", x3.ndim)\n",
    "print(f\"The size of x1:\", x3.size)\n",
    "print(f\"The shape of x1 is:\", x3.shape)"
   ]
  },
  {
   "cell_type": "markdown",
   "id": "b822f80f-6791-48c8-851d-ab7a75bbc401",
   "metadata": {},
   "source": [
    "# indexing of arrays \n",
    "Indexing refers to accessing specific elements or subsets of an array. NumPy supports powerful indexing"
   ]
  },
  {
   "cell_type": "code",
   "execution_count": 34,
   "id": "82bbe308-e0fb-427e-a602-10c9a939d927",
   "metadata": {},
   "outputs": [
    {
     "data": {
      "text/plain": [
       "array([5, 0, 3, 3, 7, 9, 3])"
      ]
     },
     "execution_count": 34,
     "metadata": {},
     "output_type": "execute_result"
    }
   ],
   "source": [
    "#for select a single element \n",
    "x1"
   ]
  },
  {
   "cell_type": "code",
   "execution_count": 35,
   "id": "0a895155-770c-43c4-9dfb-8110f4fa5ff6",
   "metadata": {},
   "outputs": [
    {
     "data": {
      "text/plain": [
       "0"
      ]
     },
     "execution_count": 35,
     "metadata": {},
     "output_type": "execute_result"
    }
   ],
   "source": [
    "x1[1]"
   ]
  },
  {
   "cell_type": "code",
   "execution_count": 36,
   "id": "4c927314-e7fe-466c-a6c0-5f92fb13d9ae",
   "metadata": {},
   "outputs": [
    {
     "data": {
      "text/plain": [
       "3"
      ]
     },
     "execution_count": 36,
     "metadata": {},
     "output_type": "execute_result"
    }
   ],
   "source": [
    "#to index from the end, we use the negative indexing \n",
    "x1[-1]"
   ]
  },
  {
   "cell_type": "code",
   "execution_count": 37,
   "id": "52a8a98d-297f-490a-a0b5-5a65727d6f2b",
   "metadata": {},
   "outputs": [
    {
     "data": {
      "text/plain": [
       "array([[5, 2, 4, 7],\n",
       "       [6, 8, 8, 1],\n",
       "       [6, 7, 7, 8]])"
      ]
     },
     "execution_count": 37,
     "metadata": {},
     "output_type": "execute_result"
    }
   ],
   "source": [
    "#In a multidimensional array, you access items using a comma-separated tuple of indices:\n",
    "x2"
   ]
  },
  {
   "cell_type": "code",
   "execution_count": 38,
   "id": "e5e5a99c-06e7-4d9d-86f5-2c302b4cb124",
   "metadata": {},
   "outputs": [
    {
     "data": {
      "text/plain": [
       "5"
      ]
     },
     "execution_count": 38,
     "metadata": {},
     "output_type": "execute_result"
    }
   ],
   "source": [
    "x2[0,0] #this code access the first element in the first row and column "
   ]
  },
  {
   "cell_type": "code",
   "execution_count": 39,
   "id": "7965587f-0882-469e-bef6-7a2072c10521",
   "metadata": {},
   "outputs": [
    {
     "data": {
      "text/plain": [
       "8"
      ]
     },
     "execution_count": 39,
     "metadata": {},
     "output_type": "execute_result"
    }
   ],
   "source": [
    "x2[2,3] #to access 8, that is, at row 3, column 3, the last element "
   ]
  },
  {
   "cell_type": "markdown",
   "id": "920208f8-0678-4776-be8e-a09ae317c63b",
   "metadata": {},
   "source": [
    "# Array Slicing: Accessing Subarrays\n",
    "\n",
    "Just as we can use square brackets to access individual array elements, we can also use\n",
    "them to access subarrays with the slice notation, marked by the colon (:). We use the syntax, x[start:stop:step]. If any of these are unspecified, they default to the values start=0, stop=size of\n",
    "dimension, step=1."
   ]
  },
  {
   "cell_type": "code",
   "execution_count": 40,
   "id": "b8a0a59d-20ba-49d5-807e-27eb71b79ae1",
   "metadata": {},
   "outputs": [
    {
     "data": {
      "text/plain": [
       "array([0, 1, 2, 3, 4, 5, 6, 7, 8, 9])"
      ]
     },
     "execution_count": 40,
     "metadata": {},
     "output_type": "execute_result"
    }
   ],
   "source": [
    "#for 1dim subarrays \n",
    "x = np.arange(10)\n",
    "x"
   ]
  },
  {
   "cell_type": "code",
   "execution_count": 41,
   "id": "5285c7d0-3972-4ee9-a464-3f4c0b5eb8a2",
   "metadata": {},
   "outputs": [
    {
     "data": {
      "text/plain": [
       "array([0, 1, 2, 3, 4])"
      ]
     },
     "execution_count": 41,
     "metadata": {},
     "output_type": "execute_result"
    }
   ],
   "source": [
    "x[ :5]  #first five elements "
   ]
  },
  {
   "cell_type": "code",
   "execution_count": 42,
   "id": "4fb55954-f53e-4d2c-971e-09ffd369541e",
   "metadata": {},
   "outputs": [
    {
     "data": {
      "text/plain": [
       "array([5, 6, 7, 8, 9])"
      ]
     },
     "execution_count": 42,
     "metadata": {},
     "output_type": "execute_result"
    }
   ],
   "source": [
    "x[5: ]  #elements after index 5"
   ]
  },
  {
   "cell_type": "code",
   "execution_count": 43,
   "id": "2e00a63d-54f1-407b-afe8-c29b17f79e41",
   "metadata": {},
   "outputs": [
    {
     "data": {
      "text/plain": [
       "array([4, 5, 6])"
      ]
     },
     "execution_count": 43,
     "metadata": {},
     "output_type": "execute_result"
    }
   ],
   "source": [
    "x[4:7] #middle numbers "
   ]
  },
  {
   "cell_type": "code",
   "execution_count": 44,
   "id": "de063aa1-7eef-46ed-89e7-c2f9d27b02c3",
   "metadata": {},
   "outputs": [
    {
     "data": {
      "text/plain": [
       "array([4, 5, 6])"
      ]
     },
     "execution_count": 44,
     "metadata": {},
     "output_type": "execute_result"
    }
   ],
   "source": [
    "#or, you can use \n",
    "x[4:-3]"
   ]
  },
  {
   "cell_type": "code",
   "execution_count": 45,
   "id": "a8bd7b21-9e0f-4633-a52f-5b150c23ca30",
   "metadata": {},
   "outputs": [
    {
     "data": {
      "text/plain": [
       "array([9, 8, 7, 6, 5, 4, 3, 2, 1, 0])"
      ]
     },
     "execution_count": 45,
     "metadata": {},
     "output_type": "execute_result"
    }
   ],
   "source": [
    "# in reversed order \n",
    "x[ : :-1]"
   ]
  },
  {
   "cell_type": "code",
   "execution_count": 46,
   "id": "d30f4711-7048-465e-b68d-fbe1558559a3",
   "metadata": {},
   "outputs": [
    {
     "data": {
      "text/plain": [
       "array([[5, 2, 4, 7],\n",
       "       [6, 8, 8, 1],\n",
       "       [6, 7, 7, 8]])"
      ]
     },
     "execution_count": 46,
     "metadata": {},
     "output_type": "execute_result"
    }
   ],
   "source": [
    "#for multidimensional arrays \n",
    "x2"
   ]
  },
  {
   "cell_type": "code",
   "execution_count": 47,
   "id": "b82e8f83-2e3a-4b40-8e18-f74939551460",
   "metadata": {},
   "outputs": [
    {
     "data": {
      "text/plain": [
       "array([[5, 2, 4],\n",
       "       [6, 8, 8]])"
      ]
     },
     "execution_count": 47,
     "metadata": {},
     "output_type": "execute_result"
    }
   ],
   "source": [
    "x2[:2, :3]\n",
    "#before the comma, the first part is for the row and the column\n",
    "#for the code, the row starts from the begining and then stops at index 2\n",
    "#the column starts from the begining and then stops at column 3"
   ]
  },
  {
   "cell_type": "code",
   "execution_count": 48,
   "id": "174c127a-dee0-4bdd-8d9f-8a9cb1f02cdc",
   "metadata": {},
   "outputs": [
    {
     "data": {
      "text/plain": [
       "array([[5, 7],\n",
       "       [6, 1],\n",
       "       [6, 8]])"
      ]
     },
     "execution_count": 48,
     "metadata": {},
     "output_type": "execute_result"
    }
   ],
   "source": [
    "x2[:3, ::3]"
   ]
  },
  {
   "cell_type": "code",
   "execution_count": 49,
   "id": "a4616f72-5c68-4509-8cdb-ba7953fb99cd",
   "metadata": {},
   "outputs": [
    {
     "data": {
      "text/plain": [
       "array([[5, 2, 4],\n",
       "       [6, 8, 8]])"
      ]
     },
     "execution_count": 49,
     "metadata": {},
     "output_type": "execute_result"
    }
   ],
   "source": [
    "#Creating copies of sub Arrays \n",
    "x2_sub_copy = x2[:2,:3].copy()\n",
    "x2_sub_copy"
   ]
  },
  {
   "cell_type": "code",
   "execution_count": 50,
   "id": "7af11219-f151-48c0-9885-5a1ae528d105",
   "metadata": {},
   "outputs": [],
   "source": [
    "# Another useful type of operation is reshaping of arrays. The most flexible way of\n",
    "#doing this is with the reshape() method\n",
    "\n",
    "y = np.arange(1,10).reshape((3,3))"
   ]
  },
  {
   "cell_type": "code",
   "execution_count": 51,
   "id": "6e29e6d0-40c8-49d9-b6ee-2964115799e6",
   "metadata": {},
   "outputs": [
    {
     "data": {
      "text/plain": [
       "array([[1, 2, 3],\n",
       "       [4, 5, 6],\n",
       "       [7, 8, 9]])"
      ]
     },
     "execution_count": 51,
     "metadata": {},
     "output_type": "execute_result"
    }
   ],
   "source": [
    "y"
   ]
  },
  {
   "cell_type": "code",
   "execution_count": 52,
   "id": "3cf63da8-76ef-4245-9982-690b7c7185ba",
   "metadata": {},
   "outputs": [],
   "source": [
    "y1 = np.linspace(1,20, num=16).reshape((4,4))"
   ]
  },
  {
   "cell_type": "code",
   "execution_count": 53,
   "id": "811dc0ef-d180-401f-b46b-4cf7a62641b2",
   "metadata": {},
   "outputs": [
    {
     "data": {
      "text/plain": [
       "array([[ 1.        ,  2.26666667,  3.53333333,  4.8       ],\n",
       "       [ 6.06666667,  7.33333333,  8.6       ,  9.86666667],\n",
       "       [11.13333333, 12.4       , 13.66666667, 14.93333333],\n",
       "       [16.2       , 17.46666667, 18.73333333, 20.        ]])"
      ]
     },
     "execution_count": 53,
     "metadata": {},
     "output_type": "execute_result"
    }
   ],
   "source": [
    "y1"
   ]
  },
  {
   "cell_type": "markdown",
   "id": "15006ac2-228e-4f9e-8ec8-688eb98057b7",
   "metadata": {},
   "source": [
    "# Array Concatenation and Splitting"
   ]
  },
  {
   "cell_type": "markdown",
   "id": "f826e2b0-2ea3-4d1c-ac24-4b3d89c54b84",
   "metadata": {},
   "source": [
    "# Array Concatenation and Splitting\n",
    "All of the preceding routines worked on single arrays. It’s also possible to combine\n",
    "multiple arrays into one, and to conversely split a single array into multiple arrays.\n",
    "We’ll take a look at those operations here.Concatenation of arrays\n",
    "Concatenation, or joining of two arrays in NumPy, is primarily accomplished\n",
    "through the routines np.concatenate, np.vstack, and np.hstack. np.concatenate\n",
    "takes a tuple or list of arrays as its first argument, as we can see here:"
   ]
  },
  {
   "cell_type": "code",
   "execution_count": 54,
   "id": "5bb63dc7-3d92-4604-a495-aa1a6c59a944",
   "metadata": {},
   "outputs": [],
   "source": [
    "#let us create a simple array of numbers and see how the concatenation works \n",
    "c1 = np.array([1,2,3,4,5])\n",
    "c2 = np.array([6,7,8,9,10])"
   ]
  },
  {
   "cell_type": "code",
   "execution_count": 55,
   "id": "60f8e868-e6a2-406d-91ad-fdcb04a3a254",
   "metadata": {},
   "outputs": [
    {
     "name": "stdout",
     "output_type": "stream",
     "text": [
      "[1 2 3 4 5]\n",
      "[ 6  7  8  9 10]\n"
     ]
    }
   ],
   "source": [
    "print(c1)\n",
    "print(c2)"
   ]
  },
  {
   "cell_type": "code",
   "execution_count": 56,
   "id": "abc37635-bdef-487b-859a-084591ca45c5",
   "metadata": {},
   "outputs": [
    {
     "data": {
      "text/plain": [
       "array([ 1,  2,  3,  4,  5,  6,  7,  8,  9, 10])"
      ]
     },
     "execution_count": 56,
     "metadata": {},
     "output_type": "execute_result"
    }
   ],
   "source": [
    "#to combine the two.\n",
    "np.concatenate([c1,c2])"
   ]
  },
  {
   "cell_type": "code",
   "execution_count": 57,
   "id": "00f64d13-57b9-40ed-8fb2-dfcbc328df67",
   "metadata": {},
   "outputs": [
    {
     "data": {
      "text/plain": [
       "array([  1,   2,   3,   4,   5,   6,   7,   8,   9,  10,  45,  56,   3,\n",
       "       466,  74,   5])"
      ]
     },
     "execution_count": 57,
     "metadata": {},
     "output_type": "execute_result"
    }
   ],
   "source": [
    "c3 = np.array([45,56,3,466,74,5])\n",
    "np.concatenate([c1,c2,c3])"
   ]
  },
  {
   "cell_type": "code",
   "execution_count": 58,
   "id": "62fce717-b73e-4ffb-a94a-977413ebe719",
   "metadata": {},
   "outputs": [
    {
     "data": {
      "text/plain": [
       "array([[1, 2, 3],\n",
       "       [4, 5, 6]])"
      ]
     },
     "execution_count": 58,
     "metadata": {},
     "output_type": "execute_result"
    }
   ],
   "source": [
    "#We can use the concatenate for 2dim array too \n",
    "\n",
    "grid = np.array([[1,2,3], [4,5,6]])\n",
    "grid"
   ]
  },
  {
   "cell_type": "code",
   "execution_count": 59,
   "id": "b0cbcf63-d6d2-4127-8a23-cd81d47cf81a",
   "metadata": {},
   "outputs": [
    {
     "data": {
      "text/plain": [
       "array([[1, 2, 3],\n",
       "       [4, 5, 6],\n",
       "       [1, 2, 3],\n",
       "       [4, 5, 6]])"
      ]
     },
     "execution_count": 59,
     "metadata": {},
     "output_type": "execute_result"
    }
   ],
   "source": [
    "np.concatenate([grid, grid])"
   ]
  },
  {
   "cell_type": "code",
   "execution_count": 60,
   "id": "a9a416fa-33b9-4e1d-a4ac-91b4aecfa010",
   "metadata": {},
   "outputs": [],
   "source": [
    "# For working with arrays of mixed dimensions, it can be clearer to use the np.vstack\n",
    "#(vertical stack) and np.hstack (horizontal stack) functions:\n",
    "x = np.array([1,2,3,4])\n",
    "grid = np.array([[4,5,6,4], [2,3,4,6]])"
   ]
  },
  {
   "cell_type": "code",
   "execution_count": 61,
   "id": "641148a0-0a29-458a-a761-e6ff29fb5fa1",
   "metadata": {},
   "outputs": [
    {
     "data": {
      "text/plain": [
       "array([[1, 2, 3, 4],\n",
       "       [4, 5, 6, 4],\n",
       "       [2, 3, 4, 6]])"
      ]
     },
     "execution_count": 61,
     "metadata": {},
     "output_type": "execute_result"
    }
   ],
   "source": [
    "## vertically stack the arrays\n",
    "np.vstack([x, grid])"
   ]
  },
  {
   "cell_type": "markdown",
   "id": "0ed14090-0746-43d0-805e-e33c79752a98",
   "metadata": {},
   "source": [
    "# Computation on NumPy Arrays"
   ]
  },
  {
   "cell_type": "markdown",
   "id": "bd37fe65-7678-4b93-a770-1ffd04170181",
   "metadata": {},
   "source": [
    "# Operations with numpy \n",
    "\n",
    "np.add Addition \n",
    "\n",
    "np.subtract Subtraction \n",
    "\n",
    "np.negative Unary negation \n",
    "\n",
    "np.multiply Multiplication \n",
    "\n",
    "np.divide Division \n",
    "\n",
    "np.floor_divide Floor division \n",
    "\n",
    "np.power Exponentiation \n",
    "\n",
    "np.mod "
   ]
  },
  {
   "cell_type": "code",
   "execution_count": 63,
   "id": "29f1fca7-edd5-410f-ae49-2528d22d7862",
   "metadata": {},
   "outputs": [
    {
     "data": {
      "text/plain": [
       "array([2, 4, 4, 2, 6])"
      ]
     },
     "execution_count": 63,
     "metadata": {},
     "output_type": "execute_result"
    }
   ],
   "source": [
    "#to use the absolute value \n",
    "x = np.array([-2,-4,4,4-6,-6])\n",
    "abs(x)"
   ]
  },
  {
   "cell_type": "code",
   "execution_count": 66,
   "id": "dc2d520d-5cdf-43c8-9cd9-ab6fec3047c5",
   "metadata": {},
   "outputs": [
    {
     "data": {
      "text/plain": [
       "array([5., 5., 2., 1.])"
      ]
     },
     "execution_count": 66,
     "metadata": {},
     "output_type": "execute_result"
    }
   ],
   "source": [
    "#it can also handle complex number \n",
    "v = np.array([3 - 4j, 4 - 3j, 2 + 0j, 0 + 1j])\n",
    "abs(v)"
   ]
  },
  {
   "cell_type": "markdown",
   "id": "5ed5f492-edcb-4736-bb8f-9b3f7532a7c3",
   "metadata": {},
   "source": [
    "# Trigonometry functions \n",
    "\n",
    "NumPy provides a large number of useful ufuncs, and some of the most useful for the\n",
    "data scientist are the trigonometric functions"
   ]
  },
  {
   "cell_type": "code",
   "execution_count": 67,
   "id": "e573593d-9c2e-4364-bd0c-f6b0f3d393cd",
   "metadata": {},
   "outputs": [],
   "source": [
    "#to use the functions of the trig. let us define the angle of consideration \n",
    "theta = np.linspace(0, np.pi, 3)"
   ]
  },
  {
   "cell_type": "code",
   "execution_count": 71,
   "id": "1da19250-5941-4647-9dd2-85e377dc9c11",
   "metadata": {},
   "outputs": [
    {
     "name": "stdout",
     "output_type": "stream",
     "text": [
      "theta =  [0.         1.57079633 3.14159265]\n",
      "sin(theta) =  [0.0000000e+00 1.0000000e+00 1.2246468e-16]\n",
      "cos(theta) =  [ 1.000000e+00  6.123234e-17 -1.000000e+00]\n",
      "tan(theta)  = [ 0.00000000e+00  1.63312394e+16 -1.22464680e-16]\n"
     ]
    }
   ],
   "source": [
    "print(\"theta = \", theta)\n",
    "print(\"sin(theta) = \", np.sin(theta))\n",
    "print(\"cos(theta) = \", np.cos(theta))\n",
    "print(\"tan(theta)  =\", np.tan(theta))"
   ]
  },
  {
   "cell_type": "code",
   "execution_count": 73,
   "id": "7fae7a86-8f4e-4b83-b49e-a8e18dfcddda",
   "metadata": {},
   "outputs": [],
   "source": [
    "#we can do the same for inverse tri. functions\n",
    "x = np.array([-1, 0, 1])"
   ]
  },
  {
   "cell_type": "code",
   "execution_count": 77,
   "id": "84bf8d7e-2e5b-48c1-8b4e-3fdb19b53626",
   "metadata": {},
   "outputs": [
    {
     "name": "stdout",
     "output_type": "stream",
     "text": [
      "x        = [-1  0  1]\n",
      "arcsin(x) = [-1.57079633  0.          1.57079633]\n",
      "arccos(x) = [3.14159265 1.57079633 0.        ]\n",
      "arctan(x) = [-0.78539816  0.          0.78539816]\n"
     ]
    }
   ],
   "source": [
    "print(\"x        =\", x)\n",
    "print(\"arcsin(x) =\", np.arcsin(x))\n",
    "print(\"arccos(x) =\", np.arccos(x))\n",
    "print(\"arctan(x) =\", np.arctan(x))"
   ]
  },
  {
   "cell_type": "markdown",
   "id": "207ca118-20b7-4665-a303-bdcba691ae2c",
   "metadata": {},
   "source": [
    "# Exponential and Logarithm functions "
   ]
  },
  {
   "cell_type": "code",
   "execution_count": 78,
   "id": "b0d8461a-150b-4502-90fa-0b045abcebf8",
   "metadata": {},
   "outputs": [],
   "source": [
    "x = np.array([1,2,3,4])"
   ]
  },
  {
   "cell_type": "code",
   "execution_count": 83,
   "id": "d5220ea9-4156-4c23-8934-94494640db68",
   "metadata": {},
   "outputs": [
    {
     "name": "stdout",
     "output_type": "stream",
     "text": [
      "x             = [1 2 3 4]\n",
      "e^x      = [ 2.71828183  7.3890561  20.08553692 54.59815003]\n",
      "e^2x     = [   7.3890561    54.59815003  403.42879349 2980.95798704]\n",
      "e^3x     = [2.00855369e+01 4.03428793e+02 8.10308393e+03 1.62754791e+05]\n"
     ]
    }
   ],
   "source": [
    "print(\"x             =\", x)\n",
    "print(\"e^x      =\", np.exp(x))\n",
    "print(\"e^2x     =\", np.exp(2*x))\n",
    "print(\"e^3x     =\", np.exp(3*x))"
   ]
  },
  {
   "cell_type": "code",
   "execution_count": 84,
   "id": "c3a69af5-a01f-4f25-b4c0-b9f7062d727d",
   "metadata": {},
   "outputs": [],
   "source": [
    "x = np.array([2,3,4,5,6,7])"
   ]
  },
  {
   "cell_type": "code",
   "execution_count": 85,
   "id": "10e45cd3-f36e-436a-a028-9702c57ecb7c",
   "metadata": {},
   "outputs": [
    {
     "name": "stdout",
     "output_type": "stream",
     "text": [
      "x     = [2 3 4 5 6 7]\n",
      "log(x)= [0.69314718 1.09861229 1.38629436 1.60943791 1.79175947 1.94591015]\n",
      "log(2x)= [1.38629436 1.79175947 2.07944154 2.30258509 2.48490665 2.63905733]\n"
     ]
    }
   ],
   "source": [
    "print(\"x     =\", x)\n",
    "print(\"log(x)=\", np.log(x))\n",
    "print(\"log(2x)=\", np.log(2*x))"
   ]
  },
  {
   "cell_type": "markdown",
   "id": "9c6cd902-927d-4d1b-97be-d49747daee1e",
   "metadata": {},
   "source": [
    "# Summing values in the array\n",
    "# Minimum and Maximum"
   ]
  },
  {
   "cell_type": "code",
   "execution_count": 86,
   "id": "a6a06797-0a5d-4067-b89b-06f317470d94",
   "metadata": {},
   "outputs": [],
   "source": [
    "d = np.random.random(100)"
   ]
  },
  {
   "cell_type": "code",
   "execution_count": 87,
   "id": "3007bda6-0212-4878-9d41-acba9bb6f87b",
   "metadata": {},
   "outputs": [
    {
     "data": {
      "text/plain": [
       "49.25524309863321"
      ]
     },
     "execution_count": 87,
     "metadata": {},
     "output_type": "execute_result"
    }
   ],
   "source": [
    "np.sum(d)"
   ]
  },
  {
   "cell_type": "code",
   "execution_count": 88,
   "id": "94ad583b-3484-4211-8ea2-9cfa3454f0f9",
   "metadata": {},
   "outputs": [],
   "source": [
    "big_array = np.random.random(1000000)"
   ]
  },
  {
   "cell_type": "code",
   "execution_count": 89,
   "id": "ae4952da-c854-4c82-936f-dc0f0fb7320e",
   "metadata": {},
   "outputs": [
    {
     "data": {
      "text/plain": [
       "7.071203171893359e-07"
      ]
     },
     "execution_count": 89,
     "metadata": {},
     "output_type": "execute_result"
    }
   ],
   "source": [
    "np.min(big_array)"
   ]
  },
  {
   "cell_type": "code",
   "execution_count": 90,
   "id": "c8570ada-ba3a-424e-9b4a-b93d84126183",
   "metadata": {},
   "outputs": [
    {
     "data": {
      "text/plain": [
       "0.9999997207656334"
      ]
     },
     "execution_count": 90,
     "metadata": {},
     "output_type": "execute_result"
    }
   ],
   "source": [
    "np.max(big_array)"
   ]
  },
  {
   "cell_type": "code",
   "execution_count": 91,
   "id": "8c49e356-ebb8-453a-af70-d9c1d002af1e",
   "metadata": {},
   "outputs": [],
   "source": [
    "#Multidimensional aggregates\n",
    "V = np.random.random((3,3))"
   ]
  },
  {
   "cell_type": "code",
   "execution_count": 92,
   "id": "e8ca4812-abd9-49b2-a1ef-725f28212a56",
   "metadata": {},
   "outputs": [
    {
     "data": {
      "text/plain": [
       "array([[0.29151563, 0.23485452, 0.00397991],\n",
       "       [0.98768821, 0.02729722, 0.93858252],\n",
       "       [0.21806917, 0.71465661, 0.53961311]])"
      ]
     },
     "execution_count": 92,
     "metadata": {},
     "output_type": "execute_result"
    }
   ],
   "source": [
    "V"
   ]
  },
  {
   "cell_type": "code",
   "execution_count": 93,
   "id": "9de72730-450c-4326-9310-3f6c13ed26dc",
   "metadata": {},
   "outputs": [
    {
     "data": {
      "text/plain": [
       "3.956256906915331"
      ]
     },
     "execution_count": 93,
     "metadata": {},
     "output_type": "execute_result"
    }
   ],
   "source": [
    "np.sum(V)"
   ]
  },
  {
   "cell_type": "code",
   "execution_count": 94,
   "id": "6a5d57b3-df8a-4f40-85f5-eda1bc1def03",
   "metadata": {},
   "outputs": [
    {
     "data": {
      "text/plain": [
       "array([0.21806917, 0.02729722, 0.00397991])"
      ]
     },
     "execution_count": 94,
     "metadata": {},
     "output_type": "execute_result"
    }
   ],
   "source": [
    "#Aggregation functions take an additional argument specifying the axis along which\n",
    "#the aggregate is computed. For example, we can find the minimum value within each\n",
    "#column by specifying axis=0\n",
    "V.min(axis=0)"
   ]
  },
  {
   "cell_type": "code",
   "execution_count": 96,
   "id": "3278725b-6839-47df-8aef-9028a3eac620",
   "metadata": {},
   "outputs": [
    {
     "data": {
      "text/plain": [
       "array([0.29151563, 0.98768821, 0.71465661])"
      ]
     },
     "execution_count": 96,
     "metadata": {},
     "output_type": "execute_result"
    }
   ],
   "source": [
    "V.max(axis=1)"
   ]
  },
  {
   "cell_type": "code",
   "execution_count": null,
   "id": "861f1603-a8f0-404a-b916-58efb366fac8",
   "metadata": {},
   "outputs": [],
   "source": []
  }
 ],
 "metadata": {
  "kernelspec": {
   "display_name": "Python 3 (ipykernel)",
   "language": "python",
   "name": "python3"
  },
  "language_info": {
   "codemirror_mode": {
    "name": "ipython",
    "version": 3
   },
   "file_extension": ".py",
   "mimetype": "text/x-python",
   "name": "python",
   "nbconvert_exporter": "python",
   "pygments_lexer": "ipython3",
   "version": "3.12.7"
  }
 },
 "nbformat": 4,
 "nbformat_minor": 5
}
